{
  "nbformat": 4,
  "nbformat_minor": 0,
  "metadata": {
    "kernelspec": {
      "display_name": "Python [conda env:TFF]",
      "language": "python",
      "name": "conda-env-TFF-py"
    },
    "language_info": {
      "codemirror_mode": {
        "name": "ipython",
        "version": 3
      },
      "file_extension": ".py",
      "mimetype": "text/x-python",
      "name": "python",
      "nbconvert_exporter": "python",
      "pygments_lexer": "ipython3",
      "version": "3.8.5"
    },
    "colab": {
      "provenance": [],
      "collapsed_sections": [
        "HqysTLTg58Gp",
        "Q8VAXGgi58Hu",
        "-qS64-Kq58KC",
        "Y6NZrOlj58So"
      ],
      "include_colab_link": true
    }
  },
  "cells": [
    {
      "cell_type": "markdown",
      "metadata": {
        "id": "view-in-github",
        "colab_type": "text"
      },
      "source": [
        "<a href=\"https://colab.research.google.com/github/AliBavarchee/MAPD_II-Analysis-of-COVID19-PAPERS/blob/main/Final_assignment_of_MAPD_B_Part_I_Analysis_of_COVID19_papers_Ali_Bavarchee.ipynb\" target=\"_parent\"><img src=\"https://colab.research.google.com/assets/colab-badge.svg\" alt=\"Open In Colab\"/></a>"
      ]
    },
    {
      "cell_type": "markdown",
      "metadata": {
        "id": "JEbLDoYX574z"
      },
      "source": [
        "# Assignment of Management and Analysis of Physics Datasets (MOD B) Part I"
      ]
    },
    {
      "cell_type": "markdown",
      "metadata": {
        "id": "jwKsYVGz5745"
      },
      "source": [
        "## Analysis of Covid-19 papers"
      ]
    },
    {
      "cell_type": "markdown",
      "metadata": {
        "id": "_caSn4Lz5749"
      },
      "source": [
        "## Ali Bavarchee"
      ]
    },
    {
      "cell_type": "code",
      "metadata": {
        "id": "niShXXNV575A"
      },
      "source": [
        "import numpy as np\n",
        "import pandas as pd\n",
        "import dask\n",
        "import sklearn\n",
        "import matplotlib.pyplot as plt\n",
        "import time\n",
        "import json\n",
        "from dask.distributed import Client, LocalCluster, progress\n",
        "from collections import defaultdict, Counter, namedtuple\n",
        "import nltk\n",
        "from nltk.corpus import stopwords\n",
        "import dask.bag as db\n",
        "import dask.dataframe as dd\n",
        "from itertools import islice\n",
        "from operator import *\n",
        "from tqdm import tqdm\n",
        "import bokeh.palettes as palette\n",
        "import seaborn as sn\n",
        "import gensim\n",
        "from gensim.models import *\n",
        "import fasttext\n",
        "import warnings\n",
        "import os\n",
        "import io\n",
        "import re"
      ],
      "execution_count": null,
      "outputs": []
    },
    {
      "cell_type": "markdown",
      "metadata": {
        "id": "dXbLmP7H575V"
      },
      "source": [
        "## 3.1 Word counter distributed algorithm"
      ]
    },
    {
      "cell_type": "code",
      "metadata": {
        "id": "fqY-zOQ1575Y"
      },
      "source": [
        "os.getcwd()"
      ],
      "execution_count": null,
      "outputs": []
    },
    {
      "cell_type": "code",
      "metadata": {
        "id": "bcbiPXQm575t"
      },
      "source": [
        "os.chdir('/home/ali/Documents/MPDAPB/Final Assignments/Distribution')\n",
        "os.getcwd()"
      ],
      "execution_count": null,
      "outputs": []
    },
    {
      "cell_type": "code",
      "metadata": {
        "id": "sCE_Q-Fj5759"
      },
      "source": [
        "json_str = {\"paper_id\", \"metadata\", \"title\", \"authors\", \"first\", \"middle\", \"last\", \"suffix\", \"affiliation\", \"email\", \"abstract\", \"text\", \"cite_spans\"}"
      ],
      "execution_count": null,
      "outputs": []
    },
    {
      "cell_type": "code",
      "metadata": {
        "id": "crCzIFRv576M"
      },
      "source": [],
      "execution_count": null,
      "outputs": []
    },
    {
      "cell_type": "code",
      "metadata": {
        "collapsed": true,
        "id": "_MKmrZ1D576d"
      },
      "source": [
        "%%bash\n",
        "mkdir -p data/papers_in_json_singleline\n",
        "cd data/papers_in_json\n",
        "for filename in *.json; do\n",
        "    echo $filename\n",
        "    jq -c . $filename > ../papers_in_json_singleline/$filename\n",
        "done"
      ],
      "execution_count": null,
      "outputs": []
    },
    {
      "cell_type": "code",
      "metadata": {
        "id": "yEWDmsoj576z"
      },
      "source": [
        "nltk.download()"
      ],
      "execution_count": null,
      "outputs": []
    },
    {
      "cell_type": "code",
      "metadata": {
        "id": "Mu8ARrL2577D"
      },
      "source": [
        "client = Client()\n",
        "client"
      ],
      "execution_count": null,
      "outputs": []
    },
    {
      "cell_type": "code",
      "metadata": {
        "id": "iaPFrq9Q577R"
      },
      "source": [
        "# Import Data and read them by Dask.Bag after form them in single line\n",
        "DB = db.read_text('data/papers_in_json_singleline/*.json').map(json.loads).repartition(npartitions=10)"
      ],
      "execution_count": null,
      "outputs": []
    },
    {
      "cell_type": "code",
      "metadata": {
        "id": "MAXERA7v577f"
      },
      "source": [
        "DB"
      ],
      "execution_count": null,
      "outputs": []
    },
    {
      "cell_type": "code",
      "metadata": {
        "id": "5YDC1FBA577s"
      },
      "source": [
        "# Collect the Dictionary\n",
        "def join(txt):\n",
        "    text=''\n",
        "    for rec in txt:\n",
        "        text+=rec['text']\n",
        "    return text\n",
        " \n",
        "t3xt = DB.pluck(\"body_text\").map(join)\n",
        "t3xt.take(1)"
      ],
      "execution_count": null,
      "outputs": []
    },
    {
      "cell_type": "code",
      "metadata": {
        "id": "OprnDFQv5779"
      },
      "source": [
        "# Merging all pieces of Data\n",
        "def joiner(text):\n",
        "    return ''.join([item['text'] for lines in item['body_text']])\n",
        "\n",
        "# filter\n",
        "# defining some routine words and cliping\n",
        "rm_word = ['also', 'may', 'et' , 'using'\n",
        "           , 'used', 'al', 'two', 'one', 'eg', 'could', 'use']\n",
        "# Stop_words subpackage of Natural Language toolkit\n",
        "naturalang = stopwords.words('english') + rm_word\n",
        "# imlimenting stop words\n",
        "stop_words = re.compile(r'\\b(' + r'|'.join(naturalang) + r')\\b\\s*')\n",
        "# symbols refer to footnotes, citations and references\n",
        "appdix = re.compile('\\[[\\d]+\\]')\n",
        "# transforming all the words of dataset to lowercase (or caps) to prevent duplication\n",
        "lowecase  = s.lower()\n",
        "# Numbers\n",
        "Num = re.compile('((^|\\s)[\\d]+)')\n",
        "# another defenition of numbers and digits\n",
        "Numbeer = re.compile(r'\\b[0-9]+\\b\\s*')\n",
        "# Punctuation marks\n",
        "punk  = re.compile('([\\.,:?;!](?=\\w))')\n",
        "# websites and emails and symbols belong to social  network\n",
        "www = re.compile('(http(s)?:\\/\\/.)?(www\\.)?[-a-zA-Z0-9@:%._\\+~#=]{2,256}\\.[a-z]{2,6}\\b([-a-zA-Z0-9@:%_\\+.~#?&//=]*)')\n",
        "# Patterns\n",
        "patterns = re.compile('[^a-zA-Z\\d\\s]')\n",
        "# Space and blanks\n",
        "dash = re.compile('\\s([\\s]+)')\n"
      ],
      "execution_count": null,
      "outputs": []
    },
    {
      "cell_type": "code",
      "metadata": {
        "id": "lSfzjUXp578K"
      },
      "source": [],
      "execution_count": null,
      "outputs": []
    },
    {
      "cell_type": "code",
      "metadata": {
        "id": "exzkei12578W"
      },
      "source": [
        "# creating a function for cleaning the text from all rm_words, stop words, punctuation marks etc.\n",
        "def sanitization(txt):\n",
        "    sanitization = txt.lower()\n",
        "    sanitization = punk.sub(' ', sanitization)\n",
        "    \n",
        "    sanitization = www.sub('', sanitization)\n",
        "    sanitization = Num.sub('', sanitization)\n",
        "    sanitization = patterns.sub('', sanitization)\n",
        "    sanitization = appdix.sub('', sanitization)\n",
        "    sanitization = dash.sub('', sanitization)\n",
        "    sanitization = stop_words.sub('', sanitization)\n",
        "    sanitization = Numbeer.sub('', sanitization)\n",
        "    sanitization = sanitization.split()\n",
        "    return sanitization"
      ],
      "execution_count": null,
      "outputs": []
    },
    {
      "cell_type": "code",
      "metadata": {
        "id": "MMfTZ361578k"
      },
      "source": [
        "# Executing \"sanitization\" function to reach -to some extend a clean data set \n",
        "sanit_txt = t3xt.map(sanitization)\n",
        "sanit_txt.take(1)"
      ],
      "execution_count": null,
      "outputs": []
    },
    {
      "cell_type": "code",
      "metadata": {
        "id": "1nGUTybL578z"
      },
      "source": [
        "# a Func to count each word of data\n",
        "def W_counter(txt):\n",
        "    counts = dict(zip(Counter(txt).keys(), Counter(txt).values()))\n",
        "    wlist = [{\"word\":i , \"num\": j} for i,j in counts.items()]\n",
        "    return wlist\n",
        " \n",
        "WC = sanit_txt.map(W_counter)\n",
        "WC.take(1)"
      ],
      "execution_count": null,
      "outputs": []
    },
    {
      "cell_type": "code",
      "metadata": {
        "id": "2zhO_JOS579B"
      },
      "source": [
        "# Accumulating all the words through out the data by using foldby\n",
        "TWC = WC.flatten().foldby('word', binop=Word_Conter, initial=0, combine=add, combine_initial=0)"
      ],
      "execution_count": null,
      "outputs": []
    },
    {
      "cell_type": "code",
      "metadata": {
        "id": "Kqi8jyHg579P"
      },
      "source": [
        "sum_tot = TWC.compute()"
      ],
      "execution_count": null,
      "outputs": []
    },
    {
      "cell_type": "code",
      "metadata": {
        "id": "cqNpBr9u579e"
      },
      "source": [
        "sum_tot"
      ],
      "execution_count": null,
      "outputs": []
    },
    {
      "cell_type": "code",
      "metadata": {
        "id": "o0eS8_mJ579r"
      },
      "source": [
        "# Trying to sort list, but it returns latter part of set (Z)\n",
        "sum_total_sort_bottom = sorted(sum_tot,key=itemgetter(0),reverse=True)"
      ],
      "execution_count": null,
      "outputs": []
    },
    {
      "cell_type": "code",
      "metadata": {
        "id": "DYnaD_WW5795"
      },
      "source": [
        "sum_total_sort_bottom"
      ],
      "execution_count": null,
      "outputs": []
    },
    {
      "cell_type": "code",
      "metadata": {
        "id": "aE1EYClu57-G"
      },
      "source": [
        "sum_total_sort_v2 = sorted(sum_tot, key=itemgetter(1), reverse=True)"
      ],
      "execution_count": null,
      "outputs": []
    },
    {
      "cell_type": "code",
      "metadata": {
        "id": "z8CDXkN257-S"
      },
      "source": [
        "sum_total_sort_v2"
      ],
      "execution_count": null,
      "outputs": []
    },
    {
      "cell_type": "code",
      "metadata": {
        "id": "BxjmyYg557-i"
      },
      "source": [
        "stsv = sum_total_sort_v2"
      ],
      "execution_count": null,
      "outputs": []
    },
    {
      "cell_type": "code",
      "metadata": {
        "id": "FArqEmE357-x"
      },
      "source": [
        "n = 20 # Twenty of the most repeatitive words in the COVID19 papers ; the number 20 is arbitary\n",
        "\n",
        "Top_Words = dict( islice(stsv, n))\n",
        "\n",
        "figure, ax = plt.subplots(figsize=(20, 15))\n",
        "\n",
        "ax.barh(list(Top_Words.keys())[::-1], list(Top_Words.values())[::-1],\n",
        "        color=palette.plasma(n))\n",
        "        \n",
        "ax.set_xlabel('Total Number of Word', fontsize=22)\n",
        "ax.set_ylabel('Words', fontsize=22)\n",
        "ax.set_title('The Highest Frequency Words', fontsize=32)\n",
        "plt.show()"
      ],
      "execution_count": null,
      "outputs": []
    },
    {
      "cell_type": "code",
      "metadata": {
        "id": "SZe63b3V57_A"
      },
      "source": [
        "%%time\n",
        "timing = TWC.compute()\n",
        "tempo = stsv\n"
      ],
      "execution_count": null,
      "outputs": []
    },
    {
      "cell_type": "code",
      "metadata": {
        "id": "-Krn_pts57_M"
      },
      "source": [
        "print(tempo)"
      ],
      "execution_count": null,
      "outputs": []
    },
    {
      "cell_type": "code",
      "metadata": {
        "collapsed": true,
        "id": "fotNkb2D57_b"
      },
      "source": [
        "print(timing, 'ms')"
      ],
      "execution_count": null,
      "outputs": []
    },
    {
      "cell_type": "code",
      "metadata": {
        "id": "LhVClSJJ57_n"
      },
      "source": [
        "client.close()\n",
        "cluster.close()"
      ],
      "execution_count": null,
      "outputs": []
    },
    {
      "cell_type": "code",
      "metadata": {
        "id": "v6dSXfc_57_z"
      },
      "source": [
        "# Grid search\n",
        "\n",
        "def Wtimming(n_workers, n_partitions):\n",
        "    cluster = LocalCluster(n_workers = n_workers)\n",
        "    client = Client(cluster) \n",
        "    camin = time.time()\n",
        "    \n",
        "    DB = db.read_text('data/papers_in_json_singleline/*.json').map(json.loads).repartition(npartitions=n_partitions)\n",
        "    DB = DB.map(joiner).map(sanitization).map(W_counter)\n",
        "       \n",
        "    TWCT = WC.flatten().foldby('word', binop=Word_Conter, initial=0, combine=add, combine_initial=0)\n",
        "    sum_tot_T = TWCT.compute()\n",
        "    st_sorted_T = sorted(sum_tot_T, key=itemgetter(1), reverse=True)\n",
        "    \n",
        "    fine = time.time()\n",
        "    \n",
        "    client.close()\n",
        "    cluster.close() \n",
        "    \n",
        "    interval_T = fine - camin\n",
        "    \n",
        "    return interval_T"
      ],
      "execution_count": null,
      "outputs": []
    },
    {
      "cell_type": "code",
      "metadata": {
        "id": "Cyvf3ta557__"
      },
      "source": [
        "workr = [1, 2, 4, 5, 8, 12]\n",
        "partn = [1, 2, 5, 10, 23, 100]"
      ],
      "execution_count": null,
      "outputs": []
    },
    {
      "cell_type": "code",
      "metadata": {
        "id": "XKlfRgZ758AK"
      },
      "source": [
        "import warnings\n",
        "warnings.filterwarnings('ignore')"
      ],
      "execution_count": null,
      "outputs": []
    },
    {
      "cell_type": "code",
      "metadata": {
        "id": "HjUDdHiC58AV"
      },
      "source": [
        "# grid search for examination of timing with various number of worker/partition\n",
        "tim_wp = []\n",
        "\n",
        "for w in tqdm(workr):\n",
        "    for p in tqdm(partn):\n",
        "        t = Wtimming(n_workers = w, n_partitions = p*w)\n",
        "        tim_wp.append(t)\n",
        "        print(\"Workers=\", w, \"Partitions=\", p*w, \"Time=\", t,\"s\")"
      ],
      "execution_count": null,
      "outputs": []
    },
    {
      "cell_type": "code",
      "metadata": {
        "id": "COtZwFOG58Ah"
      },
      "source": [
        "plot_time = np.array(tim_wp).reshape(len(workr), len(partn))\n",
        "\n",
        "df_Time = pd.DataFrame(plot_time)\n",
        "plt.figure(figsize=(20,16))\n",
        "ax = sn.heatmap(df_Time, annot=True, annot_kws={\"size\": 22},fmt=\".3g\",\n",
        "                xticklabels=partn, yticklabels=workr,\n",
        "                cbar_kws={'label':'Execution time [s]'},cmap=sn.color_palette(\"Accent\",50) )\n",
        "ax.invert_yaxis()\n",
        "ax.set_xlabel(\"Partitions per Worker\", fontsize=22, fontweight='bold')\n",
        "ax.set_ylabel(\"Number of Workers\", fontsize=22, fontweight='bold')\n",
        "\n",
        "plt.show()"
      ],
      "execution_count": null,
      "outputs": []
    },
    {
      "cell_type": "code",
      "metadata": {
        "id": "NRN645cH58At"
      },
      "source": [
        "print('\\033[01mAmong the set of diffrent number of workers and partitions, the cluster with 5 workers and 10 partitions per worker exxecuted faster than other. Worker = 1 and partition = 100 take the longest time. ')"
      ],
      "execution_count": null,
      "outputs": []
    },
    {
      "cell_type": "code",
      "metadata": {
        "id": "Zoxh8Krc58A5"
      },
      "source": [
        "client.close()"
      ],
      "execution_count": null,
      "outputs": []
    },
    {
      "cell_type": "markdown",
      "metadata": {
        "id": "syip7pTY58BD"
      },
      "source": [
        "# 3.2 - The worst and best represented countries in the research"
      ]
    },
    {
      "cell_type": "code",
      "metadata": {
        "id": "EAYhsme-58BG"
      },
      "source": [
        "cluster = LocalCluster(n_workers=4)\n",
        "client = Client(cluster)"
      ],
      "execution_count": null,
      "outputs": []
    },
    {
      "cell_type": "code",
      "metadata": {
        "id": "9WYSTeVx58BR"
      },
      "source": [
        "# import Data.json by Dask.Bag\n",
        "filename = os.path.join('data', 'papers_in_json_singleline', '*.json')\n",
        "lines = db.read_text(filename)\n",
        "DBJ = lines.map(json.loads).repartition(10)"
      ],
      "execution_count": null,
      "outputs": []
    },
    {
      "cell_type": "code",
      "metadata": {
        "id": "dwyaVipH58Bc"
      },
      "source": [
        "# Selecting and extracting metadata(authors) by pluck (serie)\n",
        "authors = DBJ.pluck('metadata').pluck('authors')\n",
        "authors.take(1)"
      ],
      "execution_count": null,
      "outputs": []
    },
    {
      "cell_type": "code",
      "metadata": {
        "id": "wUDbUYM458Br"
      },
      "source": [],
      "execution_count": null,
      "outputs": []
    },
    {
      "cell_type": "code",
      "metadata": {
        "id": "xBx8WyU558B6"
      },
      "source": [
        "# Another way to select \"authors\" from all dictioneries of the data (bag.dataframe)\n",
        "authors = DB.pluck('metadata').pluck('authors')"
      ],
      "execution_count": null,
      "outputs": []
    },
    {
      "cell_type": "code",
      "metadata": {
        "id": "TjzD0Cmj58CF"
      },
      "source": [
        "# Import Data and read them by Dask.Bag after form them in single line\n",
        "DB = db.read_text('data/papers_in_json_singleline/*.json').map(json.loads).repartition(npartitions=10)"
      ],
      "execution_count": null,
      "outputs": []
    },
    {
      "cell_type": "code",
      "metadata": {
        "id": "SgQHH_O458CY"
      },
      "source": [
        "# flattening metadata for authors to form a dag dataframe\n",
        "def flattening(record):\n",
        "    Uni=Nat=Lab=''\n",
        "    if 'institution' in record['affiliation'].keys():\n",
        "        Uni=record['affiliation']['institution']\n",
        "    else: Uni=np.nan\n",
        "    \n",
        "    if 'laboratory' in record['affiliation'].keys():\n",
        "        Lab=record['affiliation']['laboratory']\n",
        "    else: Lab=np.nan\n",
        "    \n",
        "    if 'location' in record['affiliation'].keys():\n",
        "        if 'country' in record['affiliation']['location'].keys():\n",
        "            Nat=record['affiliation']['location']['country']\n",
        "        else: Nat=\"N/A\"\n",
        "    else: Nat=np.nan\n",
        "    \n",
        "    if Uni=='': Uni=np.nan\n",
        "    if Lab=='': Lab=np.nan\n",
        "    if Nat=='': Nat=np.nan\n",
        "    \n",
        "    return {\n",
        "        'name': record['first'],\n",
        "        #'middle name': record['middle'], \n",
        "        'last name': record['last'],\n",
        "        'Institute':  Uni,\n",
        "        'Laboratory': Lab,\n",
        "        'Country': Nat,\n",
        "    }\n",
        "authors.flatten().map(flattening).take(10)"
      ],
      "execution_count": null,
      "outputs": []
    },
    {
      "cell_type": "code",
      "metadata": {
        "id": "KlesZEFc58Ck"
      },
      "source": [],
      "execution_count": null,
      "outputs": []
    },
    {
      "cell_type": "code",
      "metadata": {
        "id": "UMSTEtuh58C2"
      },
      "source": [],
      "execution_count": null,
      "outputs": []
    },
    {
      "cell_type": "code",
      "metadata": {
        "id": "VbMY--vK58DD"
      },
      "source": [
        "# Converting Bag to Dataframe\n",
        "df_author = authors.flatten().map(flattening).to_dataframe()\n",
        "df_author.tail(10)"
      ],
      "execution_count": null,
      "outputs": []
    },
    {
      "cell_type": "code",
      "metadata": {
        "id": "fgCKw4lq58DQ"
      },
      "source": [
        "len(df_author)"
      ],
      "execution_count": null,
      "outputs": []
    },
    {
      "cell_type": "code",
      "metadata": {
        "id": "eWm5hsr758Da"
      },
      "source": [],
      "execution_count": null,
      "outputs": []
    },
    {
      "cell_type": "code",
      "metadata": {
        "id": "N-IAKTXP58Dl"
      },
      "source": [
        "# counting the number of repetition of each country in data\n",
        "paesi = df_author.Country.value_counts()\n",
        "# Droping out the missing values in dask.bag serie with dropna\n",
        "countries_cdf = paesi.dropna()"
      ],
      "execution_count": null,
      "outputs": []
    },
    {
      "cell_type": "code",
      "metadata": {
        "id": "f-1DP7w358Dz"
      },
      "source": [
        "ccdf = countries_cdf"
      ],
      "execution_count": null,
      "outputs": []
    },
    {
      "cell_type": "code",
      "metadata": {
        "collapsed": true,
        "id": "RTSpRQXJ58EI"
      },
      "source": [
        "ccdf.describe"
      ],
      "execution_count": null,
      "outputs": []
    },
    {
      "cell_type": "code",
      "metadata": {
        "id": "3DT9Qbmx58Ec"
      },
      "source": [
        "ccdf.describe()"
      ],
      "execution_count": null,
      "outputs": []
    },
    {
      "cell_type": "code",
      "metadata": {
        "id": "PrkPRvKb58Em"
      },
      "source": [
        "%%time\n",
        "\n",
        "ccdf = ccdf.compute().sort_values(ascending=False)"
      ],
      "execution_count": null,
      "outputs": []
    },
    {
      "cell_type": "code",
      "metadata": {
        "id": "XrsPOhwl58E0"
      },
      "source": [
        "rmnacountries = paesi.dropna()"
      ],
      "execution_count": null,
      "outputs": []
    },
    {
      "cell_type": "code",
      "metadata": {
        "id": "YL2leY9C58FA"
      },
      "source": [
        "rmnacountries.describe"
      ],
      "execution_count": null,
      "outputs": []
    },
    {
      "cell_type": "code",
      "metadata": {
        "id": "g9kjyNbi58FL"
      },
      "source": [
        "countrieZ = rmnacountries.compute().sort_values(ascending=False)"
      ],
      "execution_count": null,
      "outputs": []
    },
    {
      "cell_type": "code",
      "metadata": {
        "id": "51vH34hN58FU"
      },
      "source": [
        "n = 14 # fourteen countries with highest rate of references from COVID19 data\n",
        "\n",
        "plt.figure(figsize=(21,17))\n",
        "\n",
        "X = np.arange(n)\n",
        "\n",
        "ax = plt.axes()\n",
        "ax.set_xticks(X)\n",
        "ax.set_xticklabels(countrieZ.index[:n])\n",
        "\n",
        "plt.bar(X, countrieZ.values[:n], color='olivedrab')\n",
        "plt.xlabel('Country', size=22)\n",
        "plt.ylabel('Frequency', size=22)\n",
        "plt.title('The Best represented countries in Covid-19 papers', size=26)\n",
        "plt.show()"
      ],
      "execution_count": null,
      "outputs": []
    },
    {
      "cell_type": "code",
      "metadata": {
        "collapsed": true,
        "id": "4CjGuPS658Ff"
      },
      "source": [
        "print(\"\\033[1m\\033[95mTop presented countries\")\n",
        "display(countrieZ.head(33))"
      ],
      "execution_count": null,
      "outputs": []
    },
    {
      "cell_type": "code",
      "metadata": {
        "id": "kjj5CkCa58Fu"
      },
      "source": [
        "Worst = countrieZ.tail(40)"
      ],
      "execution_count": null,
      "outputs": []
    },
    {
      "cell_type": "code",
      "metadata": {
        "collapsed": true,
        "id": "VL-T3Svc58F3"
      },
      "source": [
        "Worst"
      ],
      "execution_count": null,
      "outputs": []
    },
    {
      "cell_type": "code",
      "metadata": {
        "id": "Goma5tQj58GE"
      },
      "source": [
        "n = 10 # plotting ten countries with the laest reference from COVID19 Data\n",
        "Worst = countrieZ.tail(n)\n",
        "plt.figure(figsize=(23,4))\n",
        " \n",
        "X = np.arange(n)\n",
        "    # gives histogram aspect to the bar diagram\n",
        " \n",
        "ax = plt.axes()\n",
        "ax.set_xticks(X)\n",
        "ax.set_xticklabels(Worst.index[:n])\n",
        " \n",
        "plt.bar(X, Worst.values[:n], color='b')\n",
        "plt.xlabel('Country', size=22)\n",
        "plt.ylabel('Frequency', size=22)\n",
        "plt.title('The Worst represented countries in Covid-19 papers', size=26)\n",
        "plt.show()"
      ],
      "execution_count": null,
      "outputs": []
    },
    {
      "cell_type": "code",
      "metadata": {
        "id": "yghhmjbo58GR"
      },
      "source": [
        "ccdf.describe"
      ],
      "execution_count": null,
      "outputs": []
    },
    {
      "cell_type": "code",
      "metadata": {
        "id": "aWt0Pd7r58Gb"
      },
      "source": [],
      "execution_count": null,
      "outputs": []
    },
    {
      "cell_type": "markdown",
      "metadata": {
        "id": "HqysTLTg58Gp"
      },
      "source": [
        "### The Best and Worst affiliations(universities)"
      ]
    },
    {
      "cell_type": "code",
      "metadata": {
        "id": "bwtKhl4258Gs"
      },
      "source": [
        "%%time\n",
        "Unii = df_author.Institute.value_counts().compute()\n",
        "Unii = Uni.dropna() "
      ],
      "execution_count": null,
      "outputs": []
    },
    {
      "cell_type": "code",
      "metadata": {
        "collapsed": true,
        "id": "v6-q8IuN58G3"
      },
      "source": [
        "Unii"
      ],
      "execution_count": null,
      "outputs": []
    },
    {
      "cell_type": "code",
      "metadata": {
        "id": "QqvRMdaj58HA"
      },
      "source": [
        "n = 5 # Plot 5 academic centers that published the most data(papers, surveys & ...)\n",
        "\n",
        "plt.figure(figsize=(21,25))\n",
        "\n",
        "X = np.arange(n)\n",
        "\n",
        "ax = plt.axes()\n",
        "ax.set_xticks(X)\n",
        "ax.set_xticklabels(Unii.index[1:n])\n",
        "\n",
        "plt.bar(X, Unii.values[:n], color='orange')\n",
        "plt.xlabel('Institute', size=22)\n",
        "plt.ylabel('Frequency', size=22)\n",
        "plt.title('The outstanding institutes in Covid-19 papers', size=26)\n",
        "plt.show()"
      ],
      "execution_count": null,
      "outputs": []
    },
    {
      "cell_type": "code",
      "metadata": {
        "id": "8v6pVNVn58HJ"
      },
      "source": [
        "Unii.tail(20)"
      ],
      "execution_count": null,
      "outputs": []
    },
    {
      "cell_type": "code",
      "metadata": {
        "id": "zH1sbgAO58HU"
      },
      "source": [],
      "execution_count": null,
      "outputs": []
    },
    {
      "cell_type": "code",
      "metadata": {
        "id": "JOht2gHy58Hk"
      },
      "source": [
        "n = 10 # The worst institues based on the data\n",
        "Worsinst = Unii.tail(n)\n",
        "\n",
        "plt.figure(figsize=(25,9))\n",
        "\n",
        "X = np.arange(n)\n",
        "\n",
        "ax = plt.axes()\n",
        "ax.set_xticks(X)\n",
        "ax.set_xticklabels(Worsinst.index[1:n])\n",
        "\n",
        "plt.bar(X, Worsinst.values[:n], color='black')\n",
        "plt.xlabel('Institute', size=22)\n",
        "plt.ylabel('Frequency', size=22)\n",
        "plt.title('The passive institutes in data', size=26)\n",
        "plt.show()"
      ],
      "execution_count": null,
      "outputs": []
    },
    {
      "cell_type": "markdown",
      "metadata": {
        "id": "Q8VAXGgi58Hu"
      },
      "source": [
        "### Different number of partitions and workers"
      ]
    },
    {
      "cell_type": "code",
      "metadata": {
        "id": "eDzlMSmP58Hv"
      },
      "source": [
        "# A func for computing times of parallel computing!!! funcution as usual works owing to iteration\n",
        "def timming_countries(n_workers, n_partitions):\n",
        "    cluster = LocalCluster(n_workers = n_workers)\n",
        "    client = Client(cluster) \n",
        "\n",
        "    start = time.time()\n",
        "    \n",
        "    DB = db.read_text('data/papers_in_json_singleline/*.json').map(json.loads).repartition(npartitions=10)\n",
        "    authors = DB.pluck('metadata').pluck('authors')\n",
        "    df_author = authors.flatten().map(flattening).to_dataframe()\n",
        "    \n",
        "    countriesC = df_author.Country.value_counts()\n",
        "    \n",
        "    fin = time.time()\n",
        "    \n",
        "    client.close()\n",
        "    cluster.close() \n",
        "    \n",
        "    Time_interval = fin - start\n",
        "    \n",
        "    return Time_interval"
      ],
      "execution_count": null,
      "outputs": []
    },
    {
      "cell_type": "code",
      "metadata": {
        "id": "XMkftT7c58H8"
      },
      "source": [
        "workr = [1, 2, 4, 5, 12]\n",
        "partn = [1, 2, 5, 10, 23, 100]"
      ],
      "execution_count": null,
      "outputs": []
    },
    {
      "cell_type": "code",
      "metadata": {
        "id": "pZb71Crz58IG"
      },
      "source": [
        "import warnings\n",
        "warnings.filterwarnings('ignore')"
      ],
      "execution_count": null,
      "outputs": []
    },
    {
      "cell_type": "code",
      "metadata": {
        "id": "gxOHRMDY58IP"
      },
      "source": [
        "# Same as previous - Gread search - to compare timming of parallel running of codes with defferent number of workers*& partitions\n",
        "Ctimeset =[]\n",
        "for w in tqdm(workr):\n",
        "    for p in tqdm(partn):\n",
        "        t = timming_countries(n_workers = w, n_partitions = p*w)\n",
        "        Ctimeset.append(t)\n",
        "        print(\"Workers=\", w, \"Partitions=\", p*w, \"Time=\", t,\"s\")"
      ],
      "execution_count": null,
      "outputs": []
    },
    {
      "cell_type": "code",
      "metadata": {
        "id": "PmM7Mqz358IY"
      },
      "source": [
        "plot_time_countries = np.array(Ctimeset).reshape(len(workr), len(partn))\n",
        "\n",
        "df_Time_countries = pd.DataFrame(plot_time_countries)\n",
        "plt.figure(figsize=(20,16))\n",
        "ax = sn.heatmap(df_Time_countries, annot=True, annot_kws={\"size\": 22},fmt=\".3g\",\n",
        "                xticklabels=partn, yticklabels=workr,\n",
        "                cbar_kws={'label':'Execution time [s]'},cmap=sn.color_palette(\"inferno\",50) )\n",
        "ax.invert_yaxis()\n",
        "ax.set_xlabel(\"Partitions per Worker\", fontsize=22, fontweight='bold')\n",
        "ax.set_ylabel(\"Number of Workers\", fontsize=22, fontweight='bold')\n",
        "\n",
        "plt.show()"
      ],
      "execution_count": null,
      "outputs": []
    },
    {
      "cell_type": "markdown",
      "metadata": {
        "id": "gORR-GEl58Im"
      },
      "source": [
        "Surprisingly the best timming is granted by cluster with 2 workers and 2 partitions for each worker, and the longest is for 12 workers and 12 partitions."
      ]
    },
    {
      "cell_type": "code",
      "metadata": {
        "id": "veFk0Dky58In"
      },
      "source": [],
      "execution_count": null,
      "outputs": []
    },
    {
      "cell_type": "code",
      "metadata": {
        "id": "lmbUhqIq58Iy"
      },
      "source": [
        "========================================================="
      ],
      "execution_count": null,
      "outputs": []
    },
    {
      "cell_type": "code",
      "metadata": {
        "id": "Rpx1nyVX58I7"
      },
      "source": [
        "workr = [1, 2, 4, 5, 8, 12]\n",
        "partn = [1, 2, 5, 10, 23, 100]\n"
      ],
      "execution_count": null,
      "outputs": []
    },
    {
      "cell_type": "code",
      "metadata": {
        "id": "zNv0T17K58JE"
      },
      "source": [
        "warnings.filterwarnings('ignore')"
      ],
      "execution_count": null,
      "outputs": []
    },
    {
      "cell_type": "code",
      "metadata": {
        "id": "7Cz-fh8K58JP"
      },
      "source": [
        "Ctimesett =[]\n",
        "for w in tqdm(workr):\n",
        "    for p in tqdm(partn):\n",
        "        t = timming_universities(n_workers = w, n_partitions = p*w)\n",
        "        Ctimesett.append(t)\n",
        "        print(\"Workers=\", w, \"Partitions=\", p*w, \"Time=\", t,\"s\")"
      ],
      "execution_count": null,
      "outputs": []
    },
    {
      "cell_type": "code",
      "metadata": {
        "id": "xSx-Bauh58Ja"
      },
      "source": [
        "plot_time_inst = np.array(Ctimesett).reshape(len(workr), len(partn))\n",
        "\n",
        "df_Time_inst = pd.DataFrame(plot_time_inst)\n",
        "plt.figure(figsize=(20,16))\n",
        "ax = sn.heatmap(df_Time_inst, annot=True, annot_kws={\"size\": 22},fmt=\".3g\",\n",
        "                xticklabels=partn, yticklabels=workr,\n",
        "                cbar_kws={'label':'Execution time [s]'},cmap=sn.color_palette(\"plasma\",50) )\n",
        "ax.invert_yaxis()\n",
        "ax.set_xlabel(\"Partitions per Worker\", fontsize=22, fontweight='bold')\n",
        "ax.set_ylabel(\"Number of Workers\", fontsize=22, fontweight='bold')\n",
        "\n",
        "plt.show()"
      ],
      "execution_count": null,
      "outputs": []
    },
    {
      "cell_type": "markdown",
      "metadata": {
        "id": "Oom8wrq358Jm"
      },
      "source": [
        "The optimum number of the worker has been 4 with 400 partitions.\n",
        "The client with one worker has shown the slowest preformance."
      ]
    },
    {
      "cell_type": "code",
      "metadata": {
        "id": "8Esu5IpM58Ju"
      },
      "source": [
        "df_Time_inst"
      ],
      "execution_count": null,
      "outputs": []
    },
    {
      "cell_type": "code",
      "metadata": {
        "id": "x_ZgNfEI58J3"
      },
      "source": [
        "client.close()"
      ],
      "execution_count": null,
      "outputs": []
    },
    {
      "cell_type": "markdown",
      "metadata": {
        "id": "-qS64-Kq58KC"
      },
      "source": [
        "## 3.3 Get the embedding for the title of the papers\n",
        "This method of data analysis is useful to understand a general picture of titles as in this representation of data, the words with common similarities, same meaning, root of the words etc. will be revealed and the relation between words will be emanated."
      ]
    },
    {
      "cell_type": "code",
      "metadata": {
        "id": "s6f9xm8C58KM"
      },
      "source": [
        "from gensim.models import Word2Vec\n",
        "from gensim.models import KeyedVectors\n",
        "import fasttext\n",
        "import fasttext.util"
      ],
      "execution_count": null,
      "outputs": []
    },
    {
      "cell_type": "code",
      "metadata": {
        "id": "dXZVimF058KW"
      },
      "source": [
        "\n",
        "ft = fasttext.load_model('cc.en.300.bin')\n",
        "ft.save_model('cc.en.300.bin')"
      ],
      "execution_count": null,
      "outputs": []
    },
    {
      "cell_type": "code",
      "metadata": {
        "id": "6FmnLpsF58Ki"
      },
      "source": [
        "ft = fasttext.load_model('cc.en.300.bin')"
      ],
      "execution_count": null,
      "outputs": []
    },
    {
      "cell_type": "code",
      "metadata": {
        "id": "IAMcdgQG58Kq"
      },
      "source": [],
      "execution_count": null,
      "outputs": []
    },
    {
      "cell_type": "code",
      "metadata": {
        "id": "xUyuzUSH58Ky"
      },
      "source": [
        "def load_vectors(fname):\n",
        "    fin = io.open(fname, 'r', encoding='utf-8', newline='\\n', errors='ignore')\n",
        "    n, d = map(int, fin.readline().split())\n",
        "    data = {}\n",
        "    for line in fin:\n",
        "        tokens = line.rstrip().split(' ')\n",
        "        data[tokens[0]] = map(float, tokens[1:])\n",
        "    return data"
      ],
      "execution_count": null,
      "outputs": []
    },
    {
      "cell_type": "code",
      "metadata": {
        "collapsed": true,
        "id": "CMVdNhn358K8"
      },
      "source": [
        "def load_wordlist(fname):\n",
        "    fin = io.open(fname, 'r', encoding='utf-8', newline='\\n', errors='ignore')\n",
        "    n, d = map(int, fin.readline().split())\n",
        "    embeddings = np.zeros((n, d), dtype=np.float32)\n",
        "    data ={}\n",
        "    for i, line in fin:\n",
        "        tokens = line.rstrip().split(' ')\n",
        "        data[tokens[0]] = list(map(float, tokens[1:]))\n",
        "    return data\n",
        "model = KeyedVectors.load_word2vec_format('/home/ali/Documents/FADistribution/wiki.en.vec')\n",
        "#model['hello']"
      ],
      "execution_count": null,
      "outputs": []
    },
    {
      "cell_type": "code",
      "metadata": {
        "id": "sXohpZrb58LE"
      },
      "source": [
        "# getting the train dataset by genism and computing the time of execution\n",
        "start=time.time()\n",
        "\n",
        "Vword = KeyedVectors.load_word2vec_format('wiki.en.vec')\n",
        "\n",
        "stop=time.time()\n",
        "\n",
        "interval = stop - start\n",
        "print(interval)"
      ],
      "execution_count": null,
      "outputs": []
    },
    {
      "cell_type": "code",
      "metadata": {
        "id": "tnGyezDS58LN"
      },
      "source": [],
      "execution_count": null,
      "outputs": []
    },
    {
      "cell_type": "code",
      "metadata": {
        "id": "7QQLCHEq58LU"
      },
      "source": [
        "# getting the train dataset by genism and computing the time of execution\n",
        "start=time.time()\n",
        "\n",
        "Vword = KeyedVectors.load_word2vec_format('/home/ali/Documents/FADistribution/wiki.en.vec')\n",
        "\n",
        "stop=time.time()\n",
        "\n",
        "interval = stop - start\n",
        "print(interval)"
      ],
      "execution_count": null,
      "outputs": []
    },
    {
      "cell_type": "code",
      "metadata": {
        "id": "7idWPOm_58Lc"
      },
      "source": [],
      "execution_count": null,
      "outputs": []
    },
    {
      "cell_type": "code",
      "metadata": {
        "id": "q1uoMjir58Lj"
      },
      "source": [
        "Vword['collection']"
      ],
      "execution_count": null,
      "outputs": []
    },
    {
      "cell_type": "code",
      "metadata": {
        "id": "y8c56T9m58Lt"
      },
      "source": [
        "client = Client()\n",
        "client"
      ],
      "execution_count": null,
      "outputs": []
    },
    {
      "cell_type": "code",
      "metadata": {
        "id": "w6z9O7T058L7"
      },
      "source": [
        "filename = os.path.join('data', 'papers_in_json_singleline', '*.json')\n",
        "lines = db.read_text(filename)\n",
        "DBJ = lines.map(json.loads).repartition(10)"
      ],
      "execution_count": null,
      "outputs": []
    },
    {
      "cell_type": "code",
      "metadata": {
        "id": "EfbNdDhb58ME"
      },
      "source": [
        "DB = db.read_text('data/papers_in_json_singleline/*.json').map(json.loads).repartition(npartitions=10)"
      ],
      "execution_count": null,
      "outputs": []
    },
    {
      "cell_type": "code",
      "metadata": {
        "id": "oMLKWLug58MO"
      },
      "source": [
        "#wordz, embeddings = load_word2vec_format('/home/ali/Documents/FADistribution/wiki.en.vec',binary=True)\n"
      ],
      "execution_count": null,
      "outputs": []
    },
    {
      "cell_type": "code",
      "metadata": {
        "id": "AgixNHXA58MV"
      },
      "source": [
        "def dictionary(record):\n",
        "    return {\n",
        "        \"paper_id\": record['paper_id'],\n",
        "        \"title\": record['metadata']['title']\n",
        "            }"
      ],
      "execution_count": null,
      "outputs": []
    },
    {
      "cell_type": "code",
      "metadata": {
        "id": "TiID-5ZC58Mb"
      },
      "source": [
        "embeded = DB.map(dictionary).filter(lambda record: bool(record['title'])).compute()"
      ],
      "execution_count": null,
      "outputs": []
    },
    {
      "cell_type": "code",
      "metadata": {
        "id": "pKT7EnmS58Mj"
      },
      "source": [
        "# funct makes title vectorized - \n",
        "def embedder(text, wiki):\n",
        "    unipassage_split = text.lower().split()\n",
        "    words_embed=[]\n",
        "\n",
        "    for w in unipassage_split:\n",
        "        try:\n",
        "            words_embed.append( wiki[w])\n",
        "        except:\n",
        "            pass \n",
        "    return words_embed"
      ],
      "execution_count": null,
      "outputs": []
    },
    {
      "cell_type": "code",
      "metadata": {
        "id": "5zmT3VZw58Mq"
      },
      "source": [
        "# A funct to make a dictionary of text based on ip paper and embedded titles by model\n",
        "def dictionary(record, model):\n",
        "    return{\n",
        "        \"paper_id\": record[\"paper_id\"],\n",
        "        \"title\": embedder(record['title'], model)\n",
        "    }"
      ],
      "execution_count": null,
      "outputs": []
    },
    {
      "cell_type": "code",
      "metadata": {
        "id": "fHiCPDpa58M0"
      },
      "source": [
        "# creating a dictionary by dictionary function\n",
        "embedded_titlez = [create_dictionary(title,  Vword) for title in embeded]"
      ],
      "execution_count": null,
      "outputs": []
    },
    {
      "cell_type": "code",
      "metadata": {
        "id": "frHsBhpK58NM"
      },
      "source": [
        "embedded_titlez"
      ],
      "execution_count": null,
      "outputs": []
    },
    {
      "cell_type": "code",
      "metadata": {
        "id": "IWaX1SuG58Rs"
      },
      "source": [
        "emtitlez = DBJ.map(dictionary).filter(lambda record: bool(record['title'])).compute()"
      ],
      "execution_count": null,
      "outputs": []
    },
    {
      "cell_type": "code",
      "metadata": {
        "id": "zkygbcC_58Ry"
      },
      "source": [
        "emtitlez"
      ],
      "execution_count": null,
      "outputs": []
    },
    {
      "cell_type": "code",
      "metadata": {
        "id": "O97m36H_58SA"
      },
      "source": [
        "# transforming the list of embeded titles to dask.bag from python sequence\n",
        "embedded_titles = db.from_sequence(embedded_titlez)\n",
        "embedded_titles.take(4)"
      ],
      "execution_count": null,
      "outputs": []
    },
    {
      "cell_type": "code",
      "metadata": {
        "id": "muGP3Y4K58SQ"
      },
      "source": [],
      "execution_count": null,
      "outputs": []
    },
    {
      "cell_type": "code",
      "metadata": {
        "id": "eVR--IJQ58Sb"
      },
      "source": [],
      "execution_count": null,
      "outputs": []
    },
    {
      "cell_type": "code",
      "metadata": {
        "id": "5Mm_XjKO58Sh"
      },
      "source": [
        "embu = DB.map(dictionary).filter(lambda record: bool(record['title']))"
      ],
      "execution_count": null,
      "outputs": []
    },
    {
      "cell_type": "markdown",
      "metadata": {
        "id": "Y6NZrOlj58So"
      },
      "source": [
        "## 3.3.1 Bonus point"
      ]
    },
    {
      "cell_type": "code",
      "metadata": {
        "id": "6FZ06tFP58Sp"
      },
      "source": [],
      "execution_count": null,
      "outputs": []
    },
    {
      "cell_type": "code",
      "metadata": {
        "id": "U0oDlf0f58S2"
      },
      "source": [
        "def cos_similarity(V, W):\n",
        "\n",
        "    n_V = np.linalg.norm(V)   \n",
        "    m_V =  np.linalg.norm(W)\n",
        "    \n",
        "    m = min(len(V), len(W)) \n",
        "    result = np.vdot(V[:m], W[:m])/(V*M)\n",
        "    return result\n",
        "\n",
        "\n",
        "def similarity(paper):\n",
        "    V_embedding = paper[\"emtitlez\"].flatten()\n",
        "    V_embedding_length = len(V_embedding)\n",
        "    similaritI = np.zeros(N_papers, dtype=np.float32)\n",
        "    \n",
        "    for i, p in enumerate(all_embeddings):\n",
        "        W_embedding = p[\"emtitlez\"].flatten()\n",
        "        common_length = min(V_embedding_length, len(W_embedding))\n",
        "        \n",
        "        similarities[i] = cosine_similarity(V_embedding[:common_length],W_embedding[:common_length])\n",
        "    \n",
        "    return similarities"
      ],
      "execution_count": null,
      "outputs": []
    },
    {
      "cell_type": "code",
      "metadata": {
        "id": "4nohu00R58S9"
      },
      "source": [
        "%%time\n",
        "similaritI = db.from_sequence(emtitlez).map(similarity)\n",
        "similaritI\n"
      ],
      "execution_count": null,
      "outputs": []
    },
    {
      "cell_type": "code",
      "metadata": {
        "id": "IYl-GCo358TF"
      },
      "source": [
        "%%time\n",
        "similaritII = db.from_sequence(embedded_titlez).map(similarity)\n",
        "similaritII\n"
      ],
      "execution_count": null,
      "outputs": []
    },
    {
      "cell_type": "code",
      "metadata": {
        "id": "gX1aaZgf58TM"
      },
      "source": [
        "%%time\n",
        "similaritIII = db.from_sequence(embedded_titles).map(similarity)\n",
        "similaritIII\n"
      ],
      "execution_count": null,
      "outputs": []
    },
    {
      "cell_type": "code",
      "metadata": {
        "scrolled": true,
        "id": "t2LC-uGj58TV"
      },
      "source": [
        "plot_cos_similarity  = np.array(similaritII)\n",
        "#plot_cos_similarity = pd.DataFrame(plot_cos_similarity)\n",
        "#plot_cos_similarity = plot_cos_similarity.dropna()\n",
        "#cosine_similarities = pd.DataFrame(plot_time_inst)\n",
        "plt.figure(figsize=(20,16))\n",
        "ax = sn.heatmap(plot_cos_similarity, annot=True, annot_kws={\"size\": 22},fmt=\".3f\",\n",
        "                cbar_kws={'label':'Execution time [s]'},cmap=sn.color_palette(\"plasma\",50) )\n",
        "ax.invert_yaxis()\n",
        "ax.set_xlabel(\"Titles\", fontsize=22, fontweight='bold')\n",
        "ax.set_ylabel(\"Titles\", fontsize=22, fontweight='bold')\n",
        "\n",
        "plt.show()"
      ],
      "execution_count": null,
      "outputs": []
    },
    {
      "cell_type": "code",
      "metadata": {
        "collapsed": true,
        "id": "nRry1CjE58Td"
      },
      "source": [
        "similarities = np.array(similaritI.compute()) \n",
        "#similarities[np.isnan(similaritI)] = 0 #remove NaNs\n",
        "#similarities[np.diag_indices(len(similaritI))] = 0 #remove diagonal"
      ],
      "execution_count": null,
      "outputs": []
    },
    {
      "cell_type": "code",
      "metadata": {
        "id": "f3Smg5iW58Tk"
      },
      "source": [
        "similarities = np.array(similaritIII) "
      ],
      "execution_count": null,
      "outputs": []
    },
    {
      "cell_type": "code",
      "metadata": {
        "id": "j1tOh9fK58Tq"
      },
      "source": [
        "similarities.compute()"
      ],
      "execution_count": null,
      "outputs": []
    },
    {
      "cell_type": "code",
      "metadata": {
        "id": "KCzd26GQ58Tw"
      },
      "source": [],
      "execution_count": null,
      "outputs": []
    },
    {
      "cell_type": "code",
      "metadata": {
        "id": "TaJzgDaO58T3"
      },
      "source": [],
      "execution_count": null,
      "outputs": []
    },
    {
      "cell_type": "code",
      "metadata": {
        "id": "1PCjBbQs58T8"
      },
      "source": [],
      "execution_count": null,
      "outputs": []
    },
    {
      "cell_type": "code",
      "metadata": {
        "id": "TYRmoyqP58UC"
      },
      "source": [],
      "execution_count": null,
      "outputs": []
    },
    {
      "cell_type": "code",
      "metadata": {
        "id": "uH4r8g2d58UI"
      },
      "source": [],
      "execution_count": null,
      "outputs": []
    },
    {
      "cell_type": "code",
      "metadata": {
        "id": "q2-29g1m58UN"
      },
      "source": [
        "client.close()\n"
      ],
      "execution_count": null,
      "outputs": []
    },
    {
      "cell_type": "code",
      "metadata": {
        "collapsed": true,
        "id": "TcDMxR9258UT"
      },
      "source": [
        "cluster.close()"
      ],
      "execution_count": null,
      "outputs": []
    },
    {
      "cell_type": "code",
      "metadata": {
        "id": "CohAKex358Ua"
      },
      "source": [
        "from plotfile import Plotter\n",
        "import matplotlib.pyplot as plt\n",
        "\n",
        "app = Plotter(xval=range(0,10), yval=range(0,10))\n",
        "plot = app.plotthing()\n",
        "app.show(plot)"
      ],
      "execution_count": null,
      "outputs": []
    },
    {
      "cell_type": "code",
      "metadata": {
        "id": "wzRGe-uq58Ug"
      },
      "source": [],
      "execution_count": null,
      "outputs": []
    },
    {
      "cell_type": "code",
      "metadata": {
        "id": "O6Xp6FsE58Un"
      },
      "source": [],
      "execution_count": null,
      "outputs": []
    },
    {
      "cell_type": "code",
      "metadata": {
        "id": "J2TP8fo758Uy"
      },
      "source": [],
      "execution_count": null,
      "outputs": []
    },
    {
      "cell_type": "code",
      "metadata": {
        "id": "0yRlexRi58U7"
      },
      "source": [
        "countriez = list(set(DB.pluck('metadata').pluck('authors').flatten()\n",
        "                .filter(lambda record: bool(record['affiliation']))\n",
        "                .filter(lambda record: bool(record['affiliation']['location']))\n",
        "                .pluck('affiliation').pluck('location')\n",
        "                .map(lambda record: record['country'] if 'country' in record.keys() else None).compute()))"
      ],
      "execution_count": null,
      "outputs": []
    },
    {
      "cell_type": "code",
      "metadata": {
        "id": "oXdJDnjl58VG"
      },
      "source": [],
      "execution_count": null,
      "outputs": []
    },
    {
      "cell_type": "code",
      "metadata": {
        "id": "4SIfS5GR58VM"
      },
      "source": [
        "n = 2\n",
        "Top_countries = dict( islice(countries_cdf, n))\n",
        "\n",
        "figure, ax = plt.subplots(figsize=(20, 15))\n",
        "\n",
        "ax.barh(list(countries_cdf.keys())[::-1], list(Top_countries.values())[::-1],\n",
        "        color=palette.plasma(n))\n",
        "        \n",
        "ax.set_xlabel('Total Number of paper', fontsize=22)\n",
        "ax.set_ylabel('Country', fontsize=22)\n",
        "ax.set_title('The Highest words', fontsize=32)\n",
        "plt.show()"
      ],
      "execution_count": null,
      "outputs": []
    },
    {
      "cell_type": "code",
      "metadata": {
        "id": "sScgYgQY58VS"
      },
      "source": [
        "fig, ax = plt.subplots(figsize=(12, 6))\n",
        "n = 21\n",
        "\n",
        "ax.bar(countries_cdf.index[idx::-1], countries_cdf.values[n::-1],\n",
        "        color=palette.cividis(n) )\n",
        "ax.set_xlabel('Total', fontsize=14)\n",
        "ax.set_title('Countries')\n",
        "\n",
        "plt.show()"
      ],
      "execution_count": null,
      "outputs": []
    },
    {
      "cell_type": "code",
      "metadata": {
        "id": "JSNQn4Qj58VZ"
      },
      "source": [],
      "execution_count": null,
      "outputs": []
    },
    {
      "cell_type": "code",
      "metadata": {
        "id": "TZQWjNVS58Vf"
      },
      "source": [],
      "execution_count": null,
      "outputs": []
    },
    {
      "cell_type": "code",
      "metadata": {
        "id": "BQ_JU7mK58Vk"
      },
      "source": [
        "universities = df_author.Institute.value_counts()"
      ],
      "execution_count": null,
      "outputs": []
    },
    {
      "cell_type": "code",
      "metadata": {
        "id": "bMkQYXWH58Vp"
      },
      "source": [
        "def plot_top(data, n):\n",
        "    data = data.nlargest(n+1).compute()\n",
        "    data = data[data.axes[0]!='Unknown']\n",
        "    height = [data[i] for i in range(0,n)]\n",
        "    bars = [data.axes[0][i] for i in range(0,n)]\n",
        "    y_pos = np.arange(len(bars))\n",
        "    \n",
        "    fig, ax = plt.subplots(figsize=(10,int(n*0.3)))\n",
        "    index = n\n",
        "\n",
        "    ax.barh(y_pos[:index], height[:index],color=palette.inferno(index))\n",
        "    plt.yticks(y_pos[:index], bars[:index])\n",
        "    ax.grid(True, which=\"both\", ls=\"-\",color='0.66')\n",
        "    ax.set_axisbelow(True)"
      ],
      "execution_count": null,
      "outputs": []
    },
    {
      "cell_type": "code",
      "metadata": {
        "id": "Dc1s3Q9N58Vz"
      },
      "source": [
        "titlezZ = DB.map(embeder)\n",
        "title_embeddingZ = titlez.compute()\n",
        "title_embeddingZ "
      ],
      "execution_count": null,
      "outputs": []
    },
    {
      "cell_type": "code",
      "metadata": {
        "id": "awn97sdr58V9"
      },
      "source": [
        "plot_top(paesi, 20)"
      ],
      "execution_count": null,
      "outputs": []
    },
    {
      "cell_type": "code",
      "metadata": {
        "id": "oNXc7PYy58WF"
      },
      "source": [],
      "execution_count": null,
      "outputs": []
    },
    {
      "cell_type": "code",
      "metadata": {
        "id": "KcwOQ2us58WO"
      },
      "source": [],
      "execution_count": null,
      "outputs": []
    },
    {
      "cell_type": "code",
      "metadata": {
        "id": "FInLbsHp58WV"
      },
      "source": [
        "universities = author.groupby('Institution').author.count().compute()\n",
        "sorted_uni = universities.sort_values(ascending=False) # Sorting in descending order\n",
        "sorted_uni = sorted_uni.drop(\"N/A\")"
      ],
      "execution_count": null,
      "outputs": []
    },
    {
      "cell_type": "code",
      "metadata": {
        "id": "J4_tYzbF58Wc"
      },
      "source": [],
      "execution_count": null,
      "outputs": []
    },
    {
      "cell_type": "code",
      "metadata": {
        "id": "ihFjyrrr58Wi"
      },
      "source": [],
      "execution_count": null,
      "outputs": []
    },
    {
      "cell_type": "code",
      "metadata": {
        "id": "4tb0wt9j58Wt"
      },
      "source": [],
      "execution_count": null,
      "outputs": []
    },
    {
      "cell_type": "code",
      "metadata": {
        "id": "Q9MxKu_N58Wy"
      },
      "source": [],
      "execution_count": null,
      "outputs": []
    },
    {
      "cell_type": "code",
      "metadata": {
        "id": "j-LipLsl58W7"
      },
      "source": [],
      "execution_count": null,
      "outputs": []
    },
    {
      "cell_type": "code",
      "metadata": {
        "id": "yQ2qHHhr58XC"
      },
      "source": [
        "sort_df = paesi.sort_values(ascending=False)"
      ],
      "execution_count": null,
      "outputs": []
    },
    {
      "cell_type": "code",
      "metadata": {
        "id": "MeVHiZ9A58XO"
      },
      "source": [
        "sort_df = df_author.sort_values(ascending=False) # Sorting in descending order\n",
        "clean_df = sort_df.drop(\"Missing\")"
      ],
      "execution_count": null,
      "outputs": []
    },
    {
      "cell_type": "code",
      "metadata": {
        "id": "pypXxWfY58XV"
      },
      "source": [
        "Client.close()"
      ],
      "execution_count": null,
      "outputs": []
    },
    {
      "cell_type": "code",
      "metadata": {
        "id": "-C0_Ub-W58Xb"
      },
      "source": [],
      "execution_count": null,
      "outputs": []
    },
    {
      "cell_type": "code",
      "metadata": {
        "id": "NxR0iMaB58Xg"
      },
      "source": [],
      "execution_count": null,
      "outputs": []
    },
    {
      "cell_type": "code",
      "metadata": {
        "id": "J_qTFyZT58Xm"
      },
      "source": [],
      "execution_count": null,
      "outputs": []
    },
    {
      "cell_type": "code",
      "metadata": {
        "id": "FHgBpLgW58Xr"
      },
      "source": [],
      "execution_count": null,
      "outputs": []
    },
    {
      "cell_type": "code",
      "metadata": {
        "id": "EIQvA2Vx58Xx"
      },
      "source": [],
      "execution_count": null,
      "outputs": []
    },
    {
      "cell_type": "code",
      "metadata": {
        "id": "rURRe-jF58X3"
      },
      "source": [],
      "execution_count": null,
      "outputs": []
    },
    {
      "cell_type": "code",
      "metadata": {
        "id": "dyQjPbRb58X_"
      },
      "source": [],
      "execution_count": null,
      "outputs": []
    },
    {
      "cell_type": "code",
      "metadata": {
        "id": "ETbHOAMQ58YE"
      },
      "source": [],
      "execution_count": null,
      "outputs": []
    },
    {
      "cell_type": "code",
      "metadata": {
        "id": "rmFirkyI58YJ"
      },
      "source": [],
      "execution_count": null,
      "outputs": []
    },
    {
      "cell_type": "code",
      "metadata": {
        "id": "77D7GjsK58YQ"
      },
      "source": [],
      "execution_count": null,
      "outputs": []
    },
    {
      "cell_type": "code",
      "metadata": {
        "id": "GDeHPO-w58YV"
      },
      "source": [],
      "execution_count": null,
      "outputs": []
    },
    {
      "cell_type": "code",
      "metadata": {
        "id": "x6YW41qw58Ya"
      },
      "source": [],
      "execution_count": null,
      "outputs": []
    },
    {
      "cell_type": "code",
      "metadata": {
        "id": "PspgFu8y58Yg"
      },
      "source": [],
      "execution_count": null,
      "outputs": []
    },
    {
      "cell_type": "code",
      "metadata": {
        "id": "rsxvERYp58Yo"
      },
      "source": [],
      "execution_count": null,
      "outputs": []
    },
    {
      "cell_type": "code",
      "metadata": {
        "id": "dagGM3nf58Yu"
      },
      "source": [],
      "execution_count": null,
      "outputs": []
    },
    {
      "cell_type": "code",
      "metadata": {
        "id": "OfwAYAcd58Y0"
      },
      "source": [],
      "execution_count": null,
      "outputs": []
    },
    {
      "cell_type": "code",
      "metadata": {
        "id": "LFTRD8Gm58Y5"
      },
      "source": [],
      "execution_count": null,
      "outputs": []
    },
    {
      "cell_type": "code",
      "metadata": {
        "id": "xpylP-eJ58Y_"
      },
      "source": [],
      "execution_count": null,
      "outputs": []
    },
    {
      "cell_type": "code",
      "metadata": {
        "id": "-JFFKAUT58ZH"
      },
      "source": [],
      "execution_count": null,
      "outputs": []
    },
    {
      "cell_type": "code",
      "metadata": {
        "id": "b49S1euW58ZM"
      },
      "source": [],
      "execution_count": null,
      "outputs": []
    },
    {
      "cell_type": "code",
      "metadata": {
        "id": "D9DkXqKr58Zv"
      },
      "source": [],
      "execution_count": null,
      "outputs": []
    },
    {
      "cell_type": "code",
      "metadata": {
        "id": "pPZuqOxB58Z2"
      },
      "source": [],
      "execution_count": null,
      "outputs": []
    },
    {
      "cell_type": "code",
      "metadata": {
        "id": "FKi4Tv9F58Z9"
      },
      "source": [],
      "execution_count": null,
      "outputs": []
    },
    {
      "cell_type": "code",
      "metadata": {
        "id": "qTj5cXKn58aF"
      },
      "source": [],
      "execution_count": null,
      "outputs": []
    },
    {
      "cell_type": "code",
      "metadata": {
        "id": "PUGWZyfV58aS"
      },
      "source": [],
      "execution_count": null,
      "outputs": []
    },
    {
      "cell_type": "code",
      "metadata": {
        "id": "kzrkUzbA58aZ"
      },
      "source": [],
      "execution_count": null,
      "outputs": []
    },
    {
      "cell_type": "code",
      "metadata": {
        "id": "-u-eLiEo58aj"
      },
      "source": [],
      "execution_count": null,
      "outputs": []
    },
    {
      "cell_type": "code",
      "metadata": {
        "id": "c9_ncN-458ar"
      },
      "source": [],
      "execution_count": null,
      "outputs": []
    },
    {
      "cell_type": "code",
      "metadata": {
        "id": "Gc6_ec0h58a7"
      },
      "source": [],
      "execution_count": null,
      "outputs": []
    },
    {
      "cell_type": "code",
      "metadata": {
        "id": "YnWqZSpc58bN"
      },
      "source": [],
      "execution_count": null,
      "outputs": []
    },
    {
      "cell_type": "code",
      "metadata": {
        "id": "pKZzcosd58bY"
      },
      "source": [],
      "execution_count": null,
      "outputs": []
    },
    {
      "cell_type": "code",
      "metadata": {
        "id": "GBJUmzMB58be"
      },
      "source": [],
      "execution_count": null,
      "outputs": []
    },
    {
      "cell_type": "code",
      "metadata": {
        "id": "n5QraO6458bp"
      },
      "source": [],
      "execution_count": null,
      "outputs": []
    },
    {
      "cell_type": "code",
      "metadata": {
        "id": "HM5znNHk58by"
      },
      "source": [],
      "execution_count": null,
      "outputs": []
    },
    {
      "cell_type": "code",
      "metadata": {
        "id": "NI1AAb0r58b7"
      },
      "source": [],
      "execution_count": null,
      "outputs": []
    },
    {
      "cell_type": "code",
      "metadata": {
        "id": "WYD0yaML58cF"
      },
      "source": [],
      "execution_count": null,
      "outputs": []
    },
    {
      "cell_type": "code",
      "metadata": {
        "id": "6-fOug_R58cK"
      },
      "source": [],
      "execution_count": null,
      "outputs": []
    },
    {
      "cell_type": "code",
      "metadata": {
        "id": "joR9XU2m58cT"
      },
      "source": [],
      "execution_count": null,
      "outputs": []
    },
    {
      "cell_type": "code",
      "metadata": {
        "id": "6PKt7Eg358cg"
      },
      "source": [],
      "execution_count": null,
      "outputs": []
    },
    {
      "cell_type": "code",
      "metadata": {
        "id": "7-GxpwTK58co"
      },
      "source": [],
      "execution_count": null,
      "outputs": []
    },
    {
      "cell_type": "code",
      "metadata": {
        "id": "yUE2atGs58ct"
      },
      "source": [],
      "execution_count": null,
      "outputs": []
    },
    {
      "cell_type": "code",
      "metadata": {
        "id": "M9fQdI6D58cz"
      },
      "source": [],
      "execution_count": null,
      "outputs": []
    },
    {
      "cell_type": "code",
      "metadata": {
        "id": "GReJvMoB58c-"
      },
      "source": [],
      "execution_count": null,
      "outputs": []
    },
    {
      "cell_type": "code",
      "metadata": {
        "id": "86DzD03f58dS"
      },
      "source": [],
      "execution_count": null,
      "outputs": []
    },
    {
      "cell_type": "code",
      "metadata": {
        "id": "qyAJwmUU58de"
      },
      "source": [],
      "execution_count": null,
      "outputs": []
    },
    {
      "cell_type": "code",
      "metadata": {
        "id": "we4Gmh5u58dm"
      },
      "source": [],
      "execution_count": null,
      "outputs": []
    },
    {
      "cell_type": "code",
      "metadata": {
        "id": "0wuc5wcP58du"
      },
      "source": [],
      "execution_count": null,
      "outputs": []
    },
    {
      "cell_type": "code",
      "metadata": {
        "id": "8IlyGx8-58dz"
      },
      "source": [],
      "execution_count": null,
      "outputs": []
    },
    {
      "cell_type": "code",
      "metadata": {
        "id": "_3C6DMk458d4"
      },
      "source": [],
      "execution_count": null,
      "outputs": []
    },
    {
      "cell_type": "code",
      "metadata": {
        "id": "5DjDQ6uD58d-"
      },
      "source": [],
      "execution_count": null,
      "outputs": []
    },
    {
      "cell_type": "code",
      "metadata": {
        "id": "DQ6sluFO58eD"
      },
      "source": [],
      "execution_count": null,
      "outputs": []
    },
    {
      "cell_type": "code",
      "metadata": {
        "id": "xizrQai258eJ"
      },
      "source": [],
      "execution_count": null,
      "outputs": []
    },
    {
      "cell_type": "code",
      "metadata": {
        "id": "Y7ZZE7fZ58eS"
      },
      "source": [],
      "execution_count": null,
      "outputs": []
    },
    {
      "cell_type": "code",
      "metadata": {
        "id": "hhUeCtce58eX"
      },
      "source": [],
      "execution_count": null,
      "outputs": []
    },
    {
      "cell_type": "code",
      "metadata": {
        "id": "MzqT3iS558ed"
      },
      "source": [],
      "execution_count": null,
      "outputs": []
    },
    {
      "cell_type": "code",
      "metadata": {
        "id": "zy-uD78a58ei"
      },
      "source": [],
      "execution_count": null,
      "outputs": []
    },
    {
      "cell_type": "code",
      "metadata": {
        "id": "Fjey26Md58ep"
      },
      "source": [],
      "execution_count": null,
      "outputs": []
    },
    {
      "cell_type": "code",
      "metadata": {
        "id": "QCu9wMEO58ev"
      },
      "source": [],
      "execution_count": null,
      "outputs": []
    },
    {
      "cell_type": "code",
      "metadata": {
        "id": "SMZhnvjm58e0"
      },
      "source": [],
      "execution_count": null,
      "outputs": []
    },
    {
      "cell_type": "code",
      "metadata": {
        "id": "jzQ1xIz-58e6"
      },
      "source": [],
      "execution_count": null,
      "outputs": []
    },
    {
      "cell_type": "code",
      "metadata": {
        "id": "d-BbBGGz58fC"
      },
      "source": [],
      "execution_count": null,
      "outputs": []
    },
    {
      "cell_type": "code",
      "metadata": {
        "id": "8wwigq1U58fG"
      },
      "source": [],
      "execution_count": null,
      "outputs": []
    },
    {
      "cell_type": "code",
      "metadata": {
        "id": "v0ui9T0L58fL"
      },
      "source": [
        "CumSum = sanit_txt.flatten().foldby('word', binop=dictionary, initial=0, combine=add, combine_initial=0).compute()"
      ],
      "execution_count": null,
      "outputs": []
    },
    {
      "cell_type": "code",
      "metadata": {
        "id": "0HkT5HYC58fP"
      },
      "source": [],
      "execution_count": null,
      "outputs": []
    },
    {
      "cell_type": "code",
      "metadata": {
        "id": "C_GQle1W58fV"
      },
      "source": [],
      "execution_count": null,
      "outputs": []
    },
    {
      "cell_type": "code",
      "metadata": {
        "id": "9ckaiPd558fc"
      },
      "source": [],
      "execution_count": null,
      "outputs": []
    },
    {
      "cell_type": "code",
      "metadata": {
        "id": "PHzxERV858fg"
      },
      "source": [],
      "execution_count": null,
      "outputs": []
    },
    {
      "cell_type": "code",
      "metadata": {
        "id": "SIhyLpcw58fo"
      },
      "source": [],
      "execution_count": null,
      "outputs": []
    },
    {
      "cell_type": "code",
      "metadata": {
        "id": "aveG9rqX58ft"
      },
      "source": [],
      "execution_count": null,
      "outputs": []
    },
    {
      "cell_type": "code",
      "metadata": {
        "id": "R0noNUat58fy"
      },
      "source": [],
      "execution_count": null,
      "outputs": []
    },
    {
      "cell_type": "code",
      "metadata": {
        "id": "B5ps7-kA58f3"
      },
      "source": [],
      "execution_count": null,
      "outputs": []
    },
    {
      "cell_type": "code",
      "metadata": {
        "id": "S0tJ9vs258f7"
      },
      "source": [],
      "execution_count": null,
      "outputs": []
    },
    {
      "cell_type": "code",
      "metadata": {
        "id": "cSLzzCZh58gA"
      },
      "source": [],
      "execution_count": null,
      "outputs": []
    },
    {
      "cell_type": "code",
      "metadata": {
        "id": "n37oClQj58gH"
      },
      "source": [],
      "execution_count": null,
      "outputs": []
    },
    {
      "cell_type": "code",
      "metadata": {
        "id": "LfC9HSM758gQ"
      },
      "source": [
        "def collactor(body_text):\n",
        "    con = [item['text'] for item in body_text]\n",
        "    text= \"\".join(con)\n",
        "    text = re.sub('\\W+',' ', text) \n",
        "    text = text.lower() \n",
        "    text = rm_word.sub('', text)\n",
        "    vocabs = text.split()\n",
        "    \n",
        "    return vocabs\n"
      ],
      "execution_count": null,
      "outputs": []
    },
    {
      "cell_type": "code",
      "metadata": {
        "id": "F7i0lIns58gY"
      },
      "source": [],
      "execution_count": null,
      "outputs": []
    },
    {
      "cell_type": "code",
      "metadata": {
        "collapsed": true,
        "id": "LETlMDCG58gi"
      },
      "source": [
        "%%time\n",
        "tempo = mapp.compute()"
      ],
      "execution_count": null,
      "outputs": []
    },
    {
      "cell_type": "code",
      "metadata": {
        "id": "2On1Kc2k58gq"
      },
      "source": [],
      "execution_count": null,
      "outputs": []
    },
    {
      "cell_type": "code",
      "metadata": {
        "id": "bPAV8Q_a58gu"
      },
      "source": [
        "======================================================================="
      ],
      "execution_count": null,
      "outputs": []
    },
    {
      "cell_type": "code",
      "metadata": {
        "id": "xAGQFoNb58gz"
      },
      "source": [
        "=========================================================="
      ],
      "execution_count": null,
      "outputs": []
    },
    {
      "cell_type": "code",
      "metadata": {
        "id": "Fs-zSFNG58hJ"
      },
      "source": [],
      "execution_count": null,
      "outputs": []
    },
    {
      "cell_type": "code",
      "metadata": {
        "id": "AWKAWGPq58hO"
      },
      "source": [],
      "execution_count": null,
      "outputs": []
    },
    {
      "cell_type": "code",
      "metadata": {
        "id": "XHqUE3Lr58hS"
      },
      "source": [],
      "execution_count": null,
      "outputs": []
    },
    {
      "cell_type": "code",
      "metadata": {
        "id": "WUwZQq3458hW"
      },
      "source": [],
      "execution_count": null,
      "outputs": []
    },
    {
      "cell_type": "code",
      "metadata": {
        "id": "soHHiIyA58ha"
      },
      "source": [],
      "execution_count": null,
      "outputs": []
    },
    {
      "cell_type": "code",
      "metadata": {
        "id": "2BrnjoL558hf"
      },
      "source": [],
      "execution_count": null,
      "outputs": []
    },
    {
      "cell_type": "code",
      "metadata": {
        "id": "5sOL8wFj58hj"
      },
      "source": [],
      "execution_count": null,
      "outputs": []
    },
    {
      "cell_type": "code",
      "metadata": {
        "id": "y-ztcMdm58hn"
      },
      "source": [],
      "execution_count": null,
      "outputs": []
    },
    {
      "cell_type": "code",
      "metadata": {
        "id": "7didlHvw58hr"
      },
      "source": [],
      "execution_count": null,
      "outputs": []
    },
    {
      "cell_type": "code",
      "metadata": {
        "id": "4uk_Zzx558hw"
      },
      "source": [],
      "execution_count": null,
      "outputs": []
    },
    {
      "cell_type": "code",
      "metadata": {
        "id": "zei2ucSH58h0"
      },
      "source": [],
      "execution_count": null,
      "outputs": []
    },
    {
      "cell_type": "code",
      "metadata": {
        "id": "1NXdV2a158h4"
      },
      "source": [],
      "execution_count": null,
      "outputs": []
    },
    {
      "cell_type": "code",
      "metadata": {
        "id": "JMdqT0ul58h8"
      },
      "source": [],
      "execution_count": null,
      "outputs": []
    },
    {
      "cell_type": "code",
      "metadata": {
        "id": "dawkTq7n58iB"
      },
      "source": [],
      "execution_count": null,
      "outputs": []
    },
    {
      "cell_type": "code",
      "metadata": {
        "id": "EjLBzrKe58iG"
      },
      "source": [],
      "execution_count": null,
      "outputs": []
    },
    {
      "cell_type": "code",
      "metadata": {
        "id": "lln9bPIw58iK"
      },
      "source": [],
      "execution_count": null,
      "outputs": []
    },
    {
      "cell_type": "code",
      "metadata": {
        "id": "vBCIzIhj58iO"
      },
      "source": [],
      "execution_count": null,
      "outputs": []
    },
    {
      "cell_type": "code",
      "metadata": {
        "id": "QbObiav158iU"
      },
      "source": [],
      "execution_count": null,
      "outputs": []
    },
    {
      "cell_type": "code",
      "metadata": {
        "id": "5YxRJP_E58iY"
      },
      "source": [],
      "execution_count": null,
      "outputs": []
    },
    {
      "cell_type": "code",
      "metadata": {
        "id": "wfGVavjt58id"
      },
      "source": [],
      "execution_count": null,
      "outputs": []
    },
    {
      "cell_type": "code",
      "metadata": {
        "id": "-S6Ew_M958ii"
      },
      "source": [],
      "execution_count": null,
      "outputs": []
    },
    {
      "cell_type": "code",
      "metadata": {
        "id": "qvQ12KMl58io"
      },
      "source": [],
      "execution_count": null,
      "outputs": []
    },
    {
      "cell_type": "code",
      "metadata": {
        "id": "97GYyNGk58is"
      },
      "source": [],
      "execution_count": null,
      "outputs": []
    },
    {
      "cell_type": "code",
      "metadata": {
        "id": "r_2TUunj58ix"
      },
      "source": [],
      "execution_count": null,
      "outputs": []
    },
    {
      "cell_type": "code",
      "metadata": {
        "id": "3sP2AUTu58i4"
      },
      "source": [],
      "execution_count": null,
      "outputs": []
    },
    {
      "cell_type": "code",
      "metadata": {
        "id": "-UWdKUNi58i8"
      },
      "source": [],
      "execution_count": null,
      "outputs": []
    },
    {
      "cell_type": "code",
      "metadata": {
        "id": "YTU9F2lR58jB"
      },
      "source": [],
      "execution_count": null,
      "outputs": []
    }
  ]
}